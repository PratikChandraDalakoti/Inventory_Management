{
  "nbformat": 4,
  "nbformat_minor": 0,
  "metadata": {
    "colab": {
      "name": "Add_new_Item_to inventory.ipynb",
      "provenance": []
    },
    "kernelspec": {
      "name": "python3",
      "display_name": "Python 3"
    },
    "language_info": {
      "name": "python"
    }
  },
  "cells": [
    {
      "cell_type": "markdown",
      "metadata": {
        "id": "OUbyvyT0ef1u"
      },
      "source": [
        ""
      ]
    },
    {
      "cell_type": "code",
      "metadata": {
        "id": "LgroOsR6eO-6"
      },
      "source": [
        "import json"
      ],
      "execution_count": 1,
      "outputs": []
    },
    {
      "cell_type": "code",
      "metadata": {
        "id": "wWXP0k5PeXZ0"
      },
      "source": [
        "fd = open(\"record.json\",'r')\n",
        "r=fd.read()\n",
        "fd.close()\n",
        "records=json.loads(r)"
      ],
      "execution_count": 2,
      "outputs": []
    },
    {
      "cell_type": "code",
      "metadata": {
        "id": "R0TilkApeXkt",
        "colab": {
          "base_uri": "https://localhost:8080/"
        },
        "outputId": "abaace9b-91c3-40a8-d2e2-8184048c3e7a"
      },
      "source": [
        "records"
      ],
      "execution_count": 3,
      "outputs": [
        {
          "output_type": "execute_result",
          "data": {
            "text/plain": [
              "{'1928001': {'Exp': 'Oct/2023',\n",
              "  'Mfg': 'Aug/2021',\n",
              "  'Price': 100,\n",
              "  'Product_name': 'Amenolado',\n",
              "  'Quantity': 80},\n",
              " '1928002': {'Exp': 'May/2024',\n",
              "  'Mfg': 'June/2021',\n",
              "  'Price': 140,\n",
              "  'Product_name': 'Ballotin',\n",
              "  'Quantity': 90},\n",
              " '1928003': {'Exp': 'Nov/2023',\n",
              "  'Mfg': 'Sep/2021',\n",
              "  'Price': 120,\n",
              "  'Product_name': 'Chocovic',\n",
              "  'Quantity': 50},\n",
              " '1928004': {'Exp': 'Dec/2023',\n",
              "  'Mfg': 'Jan/2021',\n",
              "  'Price': 160,\n",
              "  'Product_name': 'Devils_Food',\n",
              "  'Quantity': 70},\n",
              " '1928005': {'Exp': 'Dec/2023',\n",
              "  'Mfg': 'Feb/2021',\n",
              "  'Price': 120,\n",
              "  'Product_name': 'Enrober',\n",
              "  'Quantity': 60},\n",
              " '1928006': {'Exp': 'Jan/2022',\n",
              "  'Mfg': 'Oct/2021',\n",
              "  'Price': 130,\n",
              "  'Product_name': 'Forastero',\n",
              "  'Quantity': 100},\n",
              " '1928007': {'Exp': 'Oct:2023',\n",
              "  'Mfg': 'Aug/2021',\n",
              "  'Price': 100,\n",
              "  'Product_name': 'Ganache',\n",
              "  'Quantity': 80},\n",
              " '1928008': {'Exp': 'May/2024',\n",
              "  'Mfg': 'June/2021',\n",
              "  'Price': 140,\n",
              "  'Product_name': 'Magra',\n",
              "  'Quantity': 90},\n",
              " '1928009': {'Exp': 'Nov/2023',\n",
              "  'Mfg': 'Sep/2021',\n",
              "  'Price': 120,\n",
              "  'Product_name': 'Metate',\n",
              "  'Quantity': 50},\n",
              " '1928010': {'Exp': 'Dec/2023',\n",
              "  'Mfg': 'Jan/2021',\n",
              "  'Price': 160,\n",
              "  'Product_name': 'Molinillo',\n",
              "  'Quantity': 70},\n",
              " '1928011': {'Exp': 'Dec/2023',\n",
              "  'Mfg': 'Feb/2021',\n",
              "  'Price': 120,\n",
              "  'Product_name': 'Sugar_Bloom',\n",
              "  'Quantity': 60},\n",
              " '1928012': {'Exp': 'Jan/2022',\n",
              "  'Mfg': 'Oct/2021',\n",
              "  'Price': 130,\n",
              "  'Product_name': 'Tempering',\n",
              "  'Quantity': 100},\n",
              " '1928013': {'Exp': 'Oct/2023',\n",
              "  'Mfg': 'Aug/2021',\n",
              "  'Price': 100,\n",
              "  'Product_name': 'Trinitario',\n",
              "  'Quantity': 80},\n",
              " '1928014': {'Exp': 'May/2024',\n",
              "  'Mfg': 'Jun/2021',\n",
              "  'Price': 140,\n",
              "  'Product_name': 'Vanillin',\n",
              "  'Quantity': 90},\n",
              " '1928015': {'Exp': 'Nov/2023',\n",
              "  'Mfg': 'Sep/2021',\n",
              "  'Price': 120,\n",
              "  'Product_name': 'Winnowing',\n",
              "  'Quantity': 50},\n",
              " '1928016': {'Exp': 'Dec/2023',\n",
              "  'Mfg': 'Jan/2021',\n",
              "  'Price': 160,\n",
              "  'Product_name': 'Cupuacu',\n",
              "  'Quantity': 70},\n",
              " '1928017': {'Exp': 'Dec/2023',\n",
              "  'Mfg': 'Feb/2021',\n",
              "  'Price': 120,\n",
              "  'Product_name': 'Conching',\n",
              "  'Quantity': 60},\n",
              " '1928018': {'Exp': 'Jan/2022',\n",
              "  'Mfg': 'Oct/2021',\n",
              "  'Price': 130,\n",
              "  'Product_name': 'Chocolatier',\n",
              "  'Quantity': 100},\n",
              " '1928019': {'Exp': 'Oct/2023',\n",
              "  'Mfg': 'Aug/2021',\n",
              "  'Price': 100,\n",
              "  'Product_name': 'Bournville',\n",
              "  'Quantity': 80},\n",
              " '1928020': {'Exp': 'May/2024',\n",
              "  'Mfg': 'Jun/2021',\n",
              "  'Price': 140,\n",
              "  'Product_name': 'Poppins ',\n",
              "  'Quantity': 90},\n",
              " '1928021': {'Exp': 'Nov/2023',\n",
              "  'Mfg': 'Sep/2021',\n",
              "  'Price': 120,\n",
              "  'Product_name': 'Mazelo',\n",
              "  'Quantity': 50},\n",
              " '1928022': {'Exp': 'Dec/2023',\n",
              "  'Mfg': 'Jan/2021',\n",
              "  'Price': 160,\n",
              "  'Product_name': 'Skittles',\n",
              "  'Quantity': 70},\n",
              " '1928023': {'Exp': 'Dec/2023',\n",
              "  'Mfg': 'Feb/2021',\n",
              "  'Price': 120,\n",
              "  'Product_name': 'Snickers',\n",
              "  'Quantity': 60},\n",
              " '1928024': {'Exp': 'Jan/2022',\n",
              "  'Mfg': 'Oct/2021',\n",
              "  'Price': 130,\n",
              "  'Product_name': 'Mars bar',\n",
              "  'Quantity': 100},\n",
              " '1928025': {'Exp': 'Oct/2023',\n",
              "  'Mfg': 'Aug/2021',\n",
              "  'Price': 100,\n",
              "  'Product_name': 'Ferrero',\n",
              "  'Quantity': 80},\n",
              " '1928026': {'Exp': 'May/2024',\n",
              "  'Mfg': 'Jun/2021',\n",
              "  'Price': 140,\n",
              "  'Product_name': 'Goldenberry',\n",
              "  'Quantity': 90},\n",
              " '1928027': {'Exp': 'Nov/2023',\n",
              "  'Mfg': 'Sep/2021',\n",
              "  'Price': 120,\n",
              "  'Product_name': 'Toblerone',\n",
              "  'Quantity': 50},\n",
              " '1928028': {'Exp': 'Dec/2025',\n",
              "  'Mfg': 'Jan/2021',\n",
              "  'Price': 160,\n",
              "  'Product_name': 'IntenseDark',\n",
              "  'Quantity': 70},\n",
              " '1928029': {'Exp': 'Dec/2023',\n",
              "  'Mfg': 'Feb/2021',\n",
              "  'Price': 120,\n",
              "  'Product_name': 'Lindt',\n",
              "  'Quantity': 60},\n",
              " '1928030': {'Exp': 'Jan/2022',\n",
              "  'Mfg': 'Oct/2021',\n",
              "  'Price': 130,\n",
              "  'Product_name': 'Fabelle',\n",
              "  'Quantity': 100}}"
            ]
          },
          "metadata": {},
          "execution_count": 3
        }
      ]
    },
    {
      "cell_type": "markdown",
      "metadata": {
        "id": "QYBqCoUql3Fz"
      },
      "source": [
        ""
      ]
    },
    {
      "cell_type": "markdown",
      "metadata": {
        "id": "jSeQGGjvTx5-"
      },
      "source": [
        "##Refilling the stock or adding new data\n"
      ]
    },
    {
      "cell_type": "code",
      "metadata": {
        "colab": {
          "base_uri": "https://localhost:8080/"
        },
        "id": "SbG3ip07TxNI",
        "outputId": "c06491b2-4ee7-4b79-847c-c7a1f36a53ae"
      },
      "source": [
        "stock_id=input(\"Enter the id of product to enter:\")\n",
        "\n",
        "if stock_id not in records.keys():\n",
        "      \n",
        "      ##If the data doesn't exist then entering new product\n",
        "\n",
        "      print(stock_id,\" doesnt exist, enter the data\")\n",
        "      prod_id = stock_id\n",
        "      name = input(\"Enter name of chocolate:\")\n",
        "      pr = int(input(\"Enter price:\"))\n",
        "      qn = int(input(\"Enter quantity:\"))\n",
        "      mfg=input(\"Enter the manufacturing date:\")\n",
        "      exp=input(\"Enter the expiry date:\")\n",
        "      records[prod_id] = {'Product_name': name, 'Price': pr, 'Quantity': qn,'Mfg':mfg,'Exp':exp }\n",
        "\n",
        "else:\n",
        "      # If the data exists already then updating it's quantity\n",
        "      print(stock_id,\" already exists\")\n",
        "      stock=int(input(\"Enter the quantity: \"))\n",
        "      for key in records.keys():\n",
        "                if(key==stock_id):\n",
        "                  records[stock_id]['Quantity']+=stock\n",
        "                  break\n",
        "\n",
        "\n",
        "          \n"
      ],
      "execution_count": 4,
      "outputs": [
        {
          "name": "stdout",
          "output_type": "stream",
          "text": [
            "Enter the id of product to enter:1928031\n",
            "1928031  doesnt exist, enter the data\n",
            "Enter name of chocolate:qwe\n",
            "Enter price:100\n",
            "Enter quantity:100\n",
            "Enter the manufacturing date:daf\n",
            "Enter the expiry date:Sep/2021\n"
          ]
        }
      ]
    },
    {
      "cell_type": "code",
      "metadata": {
        "id": "NdqlaeyReX0T",
        "colab": {
          "base_uri": "https://localhost:8080/"
        },
        "outputId": "89222650-2eda-4648-8904-a613d4c53a7d"
      },
      "source": [
        "records"
      ],
      "execution_count": 5,
      "outputs": [
        {
          "output_type": "execute_result",
          "data": {
            "text/plain": [
              "{'1928001': {'Exp': 'Oct/2023',\n",
              "  'Mfg': 'Aug/2021',\n",
              "  'Price': 100,\n",
              "  'Product_name': 'Amenolado',\n",
              "  'Quantity': 80},\n",
              " '1928002': {'Exp': 'May/2024',\n",
              "  'Mfg': 'June/2021',\n",
              "  'Price': 140,\n",
              "  'Product_name': 'Ballotin',\n",
              "  'Quantity': 90},\n",
              " '1928003': {'Exp': 'Nov/2023',\n",
              "  'Mfg': 'Sep/2021',\n",
              "  'Price': 120,\n",
              "  'Product_name': 'Chocovic',\n",
              "  'Quantity': 50},\n",
              " '1928004': {'Exp': 'Dec/2023',\n",
              "  'Mfg': 'Jan/2021',\n",
              "  'Price': 160,\n",
              "  'Product_name': 'Devils_Food',\n",
              "  'Quantity': 70},\n",
              " '1928005': {'Exp': 'Dec/2023',\n",
              "  'Mfg': 'Feb/2021',\n",
              "  'Price': 120,\n",
              "  'Product_name': 'Enrober',\n",
              "  'Quantity': 60},\n",
              " '1928006': {'Exp': 'Jan/2022',\n",
              "  'Mfg': 'Oct/2021',\n",
              "  'Price': 130,\n",
              "  'Product_name': 'Forastero',\n",
              "  'Quantity': 100},\n",
              " '1928007': {'Exp': 'Oct:2023',\n",
              "  'Mfg': 'Aug/2021',\n",
              "  'Price': 100,\n",
              "  'Product_name': 'Ganache',\n",
              "  'Quantity': 80},\n",
              " '1928008': {'Exp': 'May/2024',\n",
              "  'Mfg': 'June/2021',\n",
              "  'Price': 140,\n",
              "  'Product_name': 'Magra',\n",
              "  'Quantity': 90},\n",
              " '1928009': {'Exp': 'Nov/2023',\n",
              "  'Mfg': 'Sep/2021',\n",
              "  'Price': 120,\n",
              "  'Product_name': 'Metate',\n",
              "  'Quantity': 50},\n",
              " '1928010': {'Exp': 'Dec/2023',\n",
              "  'Mfg': 'Jan/2021',\n",
              "  'Price': 160,\n",
              "  'Product_name': 'Molinillo',\n",
              "  'Quantity': 70},\n",
              " '1928011': {'Exp': 'Dec/2023',\n",
              "  'Mfg': 'Feb/2021',\n",
              "  'Price': 120,\n",
              "  'Product_name': 'Sugar_Bloom',\n",
              "  'Quantity': 60},\n",
              " '1928012': {'Exp': 'Jan/2022',\n",
              "  'Mfg': 'Oct/2021',\n",
              "  'Price': 130,\n",
              "  'Product_name': 'Tempering',\n",
              "  'Quantity': 100},\n",
              " '1928013': {'Exp': 'Oct/2023',\n",
              "  'Mfg': 'Aug/2021',\n",
              "  'Price': 100,\n",
              "  'Product_name': 'Trinitario',\n",
              "  'Quantity': 80},\n",
              " '1928014': {'Exp': 'May/2024',\n",
              "  'Mfg': 'Jun/2021',\n",
              "  'Price': 140,\n",
              "  'Product_name': 'Vanillin',\n",
              "  'Quantity': 90},\n",
              " '1928015': {'Exp': 'Nov/2023',\n",
              "  'Mfg': 'Sep/2021',\n",
              "  'Price': 120,\n",
              "  'Product_name': 'Winnowing',\n",
              "  'Quantity': 50},\n",
              " '1928016': {'Exp': 'Dec/2023',\n",
              "  'Mfg': 'Jan/2021',\n",
              "  'Price': 160,\n",
              "  'Product_name': 'Cupuacu',\n",
              "  'Quantity': 70},\n",
              " '1928017': {'Exp': 'Dec/2023',\n",
              "  'Mfg': 'Feb/2021',\n",
              "  'Price': 120,\n",
              "  'Product_name': 'Conching',\n",
              "  'Quantity': 60},\n",
              " '1928018': {'Exp': 'Jan/2022',\n",
              "  'Mfg': 'Oct/2021',\n",
              "  'Price': 130,\n",
              "  'Product_name': 'Chocolatier',\n",
              "  'Quantity': 100},\n",
              " '1928019': {'Exp': 'Oct/2023',\n",
              "  'Mfg': 'Aug/2021',\n",
              "  'Price': 100,\n",
              "  'Product_name': 'Bournville',\n",
              "  'Quantity': 80},\n",
              " '1928020': {'Exp': 'May/2024',\n",
              "  'Mfg': 'Jun/2021',\n",
              "  'Price': 140,\n",
              "  'Product_name': 'Poppins ',\n",
              "  'Quantity': 90},\n",
              " '1928021': {'Exp': 'Nov/2023',\n",
              "  'Mfg': 'Sep/2021',\n",
              "  'Price': 120,\n",
              "  'Product_name': 'Mazelo',\n",
              "  'Quantity': 50},\n",
              " '1928022': {'Exp': 'Dec/2023',\n",
              "  'Mfg': 'Jan/2021',\n",
              "  'Price': 160,\n",
              "  'Product_name': 'Skittles',\n",
              "  'Quantity': 70},\n",
              " '1928023': {'Exp': 'Dec/2023',\n",
              "  'Mfg': 'Feb/2021',\n",
              "  'Price': 120,\n",
              "  'Product_name': 'Snickers',\n",
              "  'Quantity': 60},\n",
              " '1928024': {'Exp': 'Jan/2022',\n",
              "  'Mfg': 'Oct/2021',\n",
              "  'Price': 130,\n",
              "  'Product_name': 'Mars bar',\n",
              "  'Quantity': 100},\n",
              " '1928025': {'Exp': 'Oct/2023',\n",
              "  'Mfg': 'Aug/2021',\n",
              "  'Price': 100,\n",
              "  'Product_name': 'Ferrero',\n",
              "  'Quantity': 80},\n",
              " '1928026': {'Exp': 'May/2024',\n",
              "  'Mfg': 'Jun/2021',\n",
              "  'Price': 140,\n",
              "  'Product_name': 'Goldenberry',\n",
              "  'Quantity': 90},\n",
              " '1928027': {'Exp': 'Nov/2023',\n",
              "  'Mfg': 'Sep/2021',\n",
              "  'Price': 120,\n",
              "  'Product_name': 'Toblerone',\n",
              "  'Quantity': 50},\n",
              " '1928028': {'Exp': 'Dec/2025',\n",
              "  'Mfg': 'Jan/2021',\n",
              "  'Price': 160,\n",
              "  'Product_name': 'IntenseDark',\n",
              "  'Quantity': 70},\n",
              " '1928029': {'Exp': 'Dec/2023',\n",
              "  'Mfg': 'Feb/2021',\n",
              "  'Price': 120,\n",
              "  'Product_name': 'Lindt',\n",
              "  'Quantity': 60},\n",
              " '1928030': {'Exp': 'Jan/2022',\n",
              "  'Mfg': 'Oct/2021',\n",
              "  'Price': 130,\n",
              "  'Product_name': 'Fabelle',\n",
              "  'Quantity': 100},\n",
              " '1928031': {'Exp': 'Sep/2021',\n",
              "  'Mfg': 'daf',\n",
              "  'Price': 100,\n",
              "  'Product_name': 'qwe',\n",
              "  'Quantity': 100}}"
            ]
          },
          "metadata": {},
          "execution_count": 5
        }
      ]
    },
    {
      "cell_type": "code",
      "metadata": {
        "id": "1Uiv_7cUeYMd",
        "colab": {
          "base_uri": "https://localhost:8080/",
          "height": 235
        },
        "outputId": "a4df57e1-7d40-4d87-e46f-90e7034496ff"
      },
      "source": [
        "js = json.dumps(records)\n",
        "\n",
        "fd = open(\"record.json\",'w')\n",
        "fd.write(js)\n",
        "fd.close()"
      ],
      "execution_count": 6,
      "outputs": [
        {
          "output_type": "error",
          "ename": "NameError",
          "evalue": "ignored",
          "traceback": [
            "\u001b[0;31m---------------------------------------------------------------------------\u001b[0m",
            "\u001b[0;31mNameError\u001b[0m                                 Traceback (most recent call last)",
            "\u001b[0;32m<ipython-input-6-fba5b5f34a96>\u001b[0m in \u001b[0;36m<module>\u001b[0;34m()\u001b[0m\n\u001b[0;32m----> 1\u001b[0;31m \u001b[0mjs\u001b[0m \u001b[0;34m=\u001b[0m \u001b[0mjson\u001b[0m\u001b[0;34m.\u001b[0m\u001b[0mdumps\u001b[0m\u001b[0;34m(\u001b[0m\u001b[0mrecord\u001b[0m\u001b[0;34m)\u001b[0m\u001b[0;34m\u001b[0m\u001b[0;34m\u001b[0m\u001b[0m\n\u001b[0m\u001b[1;32m      2\u001b[0m \u001b[0;34m\u001b[0m\u001b[0m\n\u001b[1;32m      3\u001b[0m \u001b[0mfd\u001b[0m \u001b[0;34m=\u001b[0m \u001b[0mopen\u001b[0m\u001b[0;34m(\u001b[0m\u001b[0;34m\"record.json\"\u001b[0m\u001b[0;34m,\u001b[0m\u001b[0;34m'w'\u001b[0m\u001b[0;34m)\u001b[0m\u001b[0;34m\u001b[0m\u001b[0;34m\u001b[0m\u001b[0m\n\u001b[1;32m      4\u001b[0m \u001b[0mfd\u001b[0m\u001b[0;34m.\u001b[0m\u001b[0mwrite\u001b[0m\u001b[0;34m(\u001b[0m\u001b[0mjs\u001b[0m\u001b[0;34m)\u001b[0m\u001b[0;34m\u001b[0m\u001b[0;34m\u001b[0m\u001b[0m\n\u001b[1;32m      5\u001b[0m \u001b[0mfd\u001b[0m\u001b[0;34m.\u001b[0m\u001b[0mclose\u001b[0m\u001b[0;34m(\u001b[0m\u001b[0;34m)\u001b[0m\u001b[0;34m\u001b[0m\u001b[0;34m\u001b[0m\u001b[0m\n",
            "\u001b[0;31mNameError\u001b[0m: name 'record' is not defined"
          ]
        }
      ]
    },
    {
      "cell_type": "markdown",
      "metadata": {
        "id": "UEK1wKV-hpOV"
      },
      "source": [
        "## Deleting the Product\n"
      ]
    },
    {
      "cell_type": "code",
      "metadata": {
        "id": "WJZ-7BhjeYU_"
      },
      "source": [
        "import time\n",
        "rec=time.ctime().split(' ')      #Today's date\n",
        "today_date= [rec[1],rec[5]]      #Getting the right format in the form of list\n"
      ],
      "execution_count": 7,
      "outputs": []
    },
    {
      "cell_type": "code",
      "metadata": {
        "id": "R3sPOnqgdu3Q",
        "colab": {
          "base_uri": "https://localhost:8080/"
        },
        "outputId": "2a6369ca-ab27-4bd5-83c6-273e7c8aba85"
      },
      "source": [
        "# If the Product is expired then remove that product from the inventory\n",
        "for i in records.copy():\n",
        "    exp_date=records[i]['Exp'].split('/')     \n",
        "    if exp_date==today_date:\n",
        "           print(\"Product\",i,\"has been expired so removing the product\")\n",
        "           records.pop(i)\n",
        "\n",
        "print(\"Remaining product have not been expired\")\n",
        "    "
      ],
      "execution_count": 8,
      "outputs": [
        {
          "output_type": "stream",
          "name": "stdout",
          "text": [
            "Product 1928031 has been expired so removing the product\n",
            "Remaining product have not been expired\n"
          ]
        }
      ]
    },
    {
      "cell_type": "code",
      "metadata": {
        "colab": {
          "base_uri": "https://localhost:8080/"
        },
        "id": "MlfJeoFXgs_2",
        "outputId": "d0fcea2d-bb0e-4d7d-b85f-935fc094d35c"
      },
      "source": [
        "records"
      ],
      "execution_count": 9,
      "outputs": [
        {
          "output_type": "execute_result",
          "data": {
            "text/plain": [
              "{'1928001': {'Exp': 'Oct/2023',\n",
              "  'Mfg': 'Aug/2021',\n",
              "  'Price': 100,\n",
              "  'Product_name': 'Amenolado',\n",
              "  'Quantity': 80},\n",
              " '1928002': {'Exp': 'May/2024',\n",
              "  'Mfg': 'June/2021',\n",
              "  'Price': 140,\n",
              "  'Product_name': 'Ballotin',\n",
              "  'Quantity': 90},\n",
              " '1928003': {'Exp': 'Nov/2023',\n",
              "  'Mfg': 'Sep/2021',\n",
              "  'Price': 120,\n",
              "  'Product_name': 'Chocovic',\n",
              "  'Quantity': 50},\n",
              " '1928004': {'Exp': 'Dec/2023',\n",
              "  'Mfg': 'Jan/2021',\n",
              "  'Price': 160,\n",
              "  'Product_name': 'Devils_Food',\n",
              "  'Quantity': 70},\n",
              " '1928005': {'Exp': 'Dec/2023',\n",
              "  'Mfg': 'Feb/2021',\n",
              "  'Price': 120,\n",
              "  'Product_name': 'Enrober',\n",
              "  'Quantity': 60},\n",
              " '1928006': {'Exp': 'Jan/2022',\n",
              "  'Mfg': 'Oct/2021',\n",
              "  'Price': 130,\n",
              "  'Product_name': 'Forastero',\n",
              "  'Quantity': 100},\n",
              " '1928007': {'Exp': 'Oct:2023',\n",
              "  'Mfg': 'Aug/2021',\n",
              "  'Price': 100,\n",
              "  'Product_name': 'Ganache',\n",
              "  'Quantity': 80},\n",
              " '1928008': {'Exp': 'May/2024',\n",
              "  'Mfg': 'June/2021',\n",
              "  'Price': 140,\n",
              "  'Product_name': 'Magra',\n",
              "  'Quantity': 90},\n",
              " '1928009': {'Exp': 'Nov/2023',\n",
              "  'Mfg': 'Sep/2021',\n",
              "  'Price': 120,\n",
              "  'Product_name': 'Metate',\n",
              "  'Quantity': 50},\n",
              " '1928010': {'Exp': 'Dec/2023',\n",
              "  'Mfg': 'Jan/2021',\n",
              "  'Price': 160,\n",
              "  'Product_name': 'Molinillo',\n",
              "  'Quantity': 70},\n",
              " '1928011': {'Exp': 'Dec/2023',\n",
              "  'Mfg': 'Feb/2021',\n",
              "  'Price': 120,\n",
              "  'Product_name': 'Sugar_Bloom',\n",
              "  'Quantity': 60},\n",
              " '1928012': {'Exp': 'Jan/2022',\n",
              "  'Mfg': 'Oct/2021',\n",
              "  'Price': 130,\n",
              "  'Product_name': 'Tempering',\n",
              "  'Quantity': 100},\n",
              " '1928013': {'Exp': 'Oct/2023',\n",
              "  'Mfg': 'Aug/2021',\n",
              "  'Price': 100,\n",
              "  'Product_name': 'Trinitario',\n",
              "  'Quantity': 80},\n",
              " '1928014': {'Exp': 'May/2024',\n",
              "  'Mfg': 'Jun/2021',\n",
              "  'Price': 140,\n",
              "  'Product_name': 'Vanillin',\n",
              "  'Quantity': 90},\n",
              " '1928015': {'Exp': 'Nov/2023',\n",
              "  'Mfg': 'Sep/2021',\n",
              "  'Price': 120,\n",
              "  'Product_name': 'Winnowing',\n",
              "  'Quantity': 50},\n",
              " '1928016': {'Exp': 'Dec/2023',\n",
              "  'Mfg': 'Jan/2021',\n",
              "  'Price': 160,\n",
              "  'Product_name': 'Cupuacu',\n",
              "  'Quantity': 70},\n",
              " '1928017': {'Exp': 'Dec/2023',\n",
              "  'Mfg': 'Feb/2021',\n",
              "  'Price': 120,\n",
              "  'Product_name': 'Conching',\n",
              "  'Quantity': 60},\n",
              " '1928018': {'Exp': 'Jan/2022',\n",
              "  'Mfg': 'Oct/2021',\n",
              "  'Price': 130,\n",
              "  'Product_name': 'Chocolatier',\n",
              "  'Quantity': 100},\n",
              " '1928019': {'Exp': 'Oct/2023',\n",
              "  'Mfg': 'Aug/2021',\n",
              "  'Price': 100,\n",
              "  'Product_name': 'Bournville',\n",
              "  'Quantity': 80},\n",
              " '1928020': {'Exp': 'May/2024',\n",
              "  'Mfg': 'Jun/2021',\n",
              "  'Price': 140,\n",
              "  'Product_name': 'Poppins ',\n",
              "  'Quantity': 90},\n",
              " '1928021': {'Exp': 'Nov/2023',\n",
              "  'Mfg': 'Sep/2021',\n",
              "  'Price': 120,\n",
              "  'Product_name': 'Mazelo',\n",
              "  'Quantity': 50},\n",
              " '1928022': {'Exp': 'Dec/2023',\n",
              "  'Mfg': 'Jan/2021',\n",
              "  'Price': 160,\n",
              "  'Product_name': 'Skittles',\n",
              "  'Quantity': 70},\n",
              " '1928023': {'Exp': 'Dec/2023',\n",
              "  'Mfg': 'Feb/2021',\n",
              "  'Price': 120,\n",
              "  'Product_name': 'Snickers',\n",
              "  'Quantity': 60},\n",
              " '1928024': {'Exp': 'Jan/2022',\n",
              "  'Mfg': 'Oct/2021',\n",
              "  'Price': 130,\n",
              "  'Product_name': 'Mars bar',\n",
              "  'Quantity': 100},\n",
              " '1928025': {'Exp': 'Oct/2023',\n",
              "  'Mfg': 'Aug/2021',\n",
              "  'Price': 100,\n",
              "  'Product_name': 'Ferrero',\n",
              "  'Quantity': 80},\n",
              " '1928026': {'Exp': 'May/2024',\n",
              "  'Mfg': 'Jun/2021',\n",
              "  'Price': 140,\n",
              "  'Product_name': 'Goldenberry',\n",
              "  'Quantity': 90},\n",
              " '1928027': {'Exp': 'Nov/2023',\n",
              "  'Mfg': 'Sep/2021',\n",
              "  'Price': 120,\n",
              "  'Product_name': 'Toblerone',\n",
              "  'Quantity': 50},\n",
              " '1928028': {'Exp': 'Dec/2025',\n",
              "  'Mfg': 'Jan/2021',\n",
              "  'Price': 160,\n",
              "  'Product_name': 'IntenseDark',\n",
              "  'Quantity': 70},\n",
              " '1928029': {'Exp': 'Dec/2023',\n",
              "  'Mfg': 'Feb/2021',\n",
              "  'Price': 120,\n",
              "  'Product_name': 'Lindt',\n",
              "  'Quantity': 60},\n",
              " '1928030': {'Exp': 'Jan/2022',\n",
              "  'Mfg': 'Oct/2021',\n",
              "  'Price': 130,\n",
              "  'Product_name': 'Fabelle',\n",
              "  'Quantity': 100}}"
            ]
          },
          "metadata": {},
          "execution_count": 9
        }
      ]
    },
    {
      "cell_type": "markdown",
      "metadata": {
        "id": "Oz58X_0oec7Q"
      },
      "source": [
        ""
      ]
    }
  ]
}