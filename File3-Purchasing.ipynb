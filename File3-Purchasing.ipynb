{
  "nbformat": 4,
  "nbformat_minor": 0,
  "metadata": {
    "colab": {
      "name": "Purchasing.ipynb",
      "provenance": []
    },
    "kernelspec": {
      "name": "python3",
      "display_name": "Python 3"
    },
    "language_info": {
      "name": "python"
    }
  },
  "cells": [
    {
      "cell_type": "markdown",
      "metadata": {
        "id": "hrKfyfvDUSG4"
      },
      "source": [
        "##Reading the Inventory"
      ]
    },
    {
      "cell_type": "code",
      "metadata": {
        "id": "hLs40hq3ntl2"
      },
      "source": [
        "import json\n",
        "import time\n",
        "\n",
        "fd = open(\"record.json\",'r')\n",
        "r = fd.read()\n",
        "fd.close()\n",
        "\n",
        "records = json.loads(r)"
      ],
      "execution_count": 1,
      "outputs": []
    },
    {
      "cell_type": "code",
      "metadata": {
        "colab": {
          "base_uri": "https://localhost:8080/"
        },
        "id": "38F0zA0DUFII",
        "outputId": "1819e255-48e2-4fae-956a-64c026ee9e7d"
      },
      "source": [
        "records"
      ],
      "execution_count": 2,
      "outputs": [
        {
          "output_type": "execute_result",
          "data": {
            "text/plain": [
              "{'1928001': {'Exp': 'Oct/2023',\n",
              "  'Mfg': 'Aug/2021',\n",
              "  'Price': 100,\n",
              "  'Product_name': 'Amenolado',\n",
              "  'Quantity': 80},\n",
              " '1928002': {'Exp': 'May/2024',\n",
              "  'Mfg': 'June/2021',\n",
              "  'Price': 140,\n",
              "  'Product_name': 'Ballotin',\n",
              "  'Quantity': 90},\n",
              " '1928003': {'Exp': 'Nov/2023',\n",
              "  'Mfg': 'Sep/2021',\n",
              "  'Price': 120,\n",
              "  'Product_name': 'Chocovic',\n",
              "  'Quantity': 50},\n",
              " '1928004': {'Exp': 'Dec/2023',\n",
              "  'Mfg': 'Jan/2021',\n",
              "  'Price': 160,\n",
              "  'Product_name': 'Devils_Food',\n",
              "  'Quantity': 70},\n",
              " '1928005': {'Exp': 'Dec/2023',\n",
              "  'Mfg': 'Feb/2021',\n",
              "  'Price': 120,\n",
              "  'Product_name': 'Enrober',\n",
              "  'Quantity': 60},\n",
              " '1928006': {'Exp': 'Jan/2022',\n",
              "  'Mfg': 'Oct/2021',\n",
              "  'Price': 130,\n",
              "  'Product_name': 'Forastero',\n",
              "  'Quantity': 100},\n",
              " '1928007': {'Exp': 'Oct:2023',\n",
              "  'Mfg': 'Aug/2021',\n",
              "  'Price': 100,\n",
              "  'Product_name': 'Ganache',\n",
              "  'Quantity': 80},\n",
              " '1928008': {'Exp': 'May/2024',\n",
              "  'Mfg': 'June/2021',\n",
              "  'Price': 140,\n",
              "  'Product_name': 'Magra',\n",
              "  'Quantity': 90},\n",
              " '1928009': {'Exp': 'Nov/2023',\n",
              "  'Mfg': 'Sep/2021',\n",
              "  'Price': 120,\n",
              "  'Product_name': 'Metate',\n",
              "  'Quantity': 50},\n",
              " '1928010': {'Exp': 'Dec/2023',\n",
              "  'Mfg': 'Jan/2021',\n",
              "  'Price': 160,\n",
              "  'Product_name': 'Molinillo',\n",
              "  'Quantity': 70},\n",
              " '1928011': {'Exp': 'Dec/2023',\n",
              "  'Mfg': 'Feb/2021',\n",
              "  'Price': 120,\n",
              "  'Product_name': 'Sugar_Bloom',\n",
              "  'Quantity': 60},\n",
              " '1928012': {'Exp': 'Jan/2022',\n",
              "  'Mfg': 'Oct/2021',\n",
              "  'Price': 130,\n",
              "  'Product_name': 'Tempering',\n",
              "  'Quantity': 100},\n",
              " '1928013': {'Exp': 'Oct/2023',\n",
              "  'Mfg': 'Aug/2021',\n",
              "  'Price': 100,\n",
              "  'Product_name': 'Trinitario',\n",
              "  'Quantity': 80},\n",
              " '1928014': {'Exp': 'May/2024',\n",
              "  'Mfg': 'Jun/2021',\n",
              "  'Price': 140,\n",
              "  'Product_name': 'Vanillin',\n",
              "  'Quantity': 90},\n",
              " '1928015': {'Exp': 'Nov/2023',\n",
              "  'Mfg': 'Sep/2021',\n",
              "  'Price': 120,\n",
              "  'Product_name': 'Winnowing',\n",
              "  'Quantity': 50},\n",
              " '1928016': {'Exp': 'Dec/2023',\n",
              "  'Mfg': 'Jan/2021',\n",
              "  'Price': 160,\n",
              "  'Product_name': 'Cupuacu',\n",
              "  'Quantity': 70},\n",
              " '1928017': {'Exp': 'Dec/2023',\n",
              "  'Mfg': 'Feb/2021',\n",
              "  'Price': 120,\n",
              "  'Product_name': 'Conching',\n",
              "  'Quantity': 60},\n",
              " '1928018': {'Exp': 'Jan/2022',\n",
              "  'Mfg': 'Oct/2021',\n",
              "  'Price': 130,\n",
              "  'Product_name': 'Chocolatier',\n",
              "  'Quantity': 100},\n",
              " '1928019': {'Exp': 'Oct/2023',\n",
              "  'Mfg': 'Aug/2021',\n",
              "  'Price': 100,\n",
              "  'Product_name': 'Bournville',\n",
              "  'Quantity': 80},\n",
              " '1928020': {'Exp': 'May/2024',\n",
              "  'Mfg': 'Jun/2021',\n",
              "  'Price': 140,\n",
              "  'Product_name': 'Poppins ',\n",
              "  'Quantity': 90},\n",
              " '1928021': {'Exp': 'Nov/2023',\n",
              "  'Mfg': 'Sep/2021',\n",
              "  'Price': 120,\n",
              "  'Product_name': 'Mazelo',\n",
              "  'Quantity': 50},\n",
              " '1928022': {'Exp': 'Dec/2023',\n",
              "  'Mfg': 'Jan/2021',\n",
              "  'Price': 160,\n",
              "  'Product_name': 'Skittles',\n",
              "  'Quantity': 70},\n",
              " '1928023': {'Exp': 'Dec/2023',\n",
              "  'Mfg': 'Feb/2021',\n",
              "  'Price': 120,\n",
              "  'Product_name': 'Snickers',\n",
              "  'Quantity': 60},\n",
              " '1928024': {'Exp': 'Jan/2022',\n",
              "  'Mfg': 'Oct/2021',\n",
              "  'Price': 130,\n",
              "  'Product_name': 'Mars bar',\n",
              "  'Quantity': 100},\n",
              " '1928025': {'Exp': 'Oct/2023',\n",
              "  'Mfg': 'Aug/2021',\n",
              "  'Price': 100,\n",
              "  'Product_name': 'Ferrero',\n",
              "  'Quantity': 80},\n",
              " '1928026': {'Exp': 'May/2024',\n",
              "  'Mfg': 'Jun/2021',\n",
              "  'Price': 140,\n",
              "  'Product_name': 'Goldenberry',\n",
              "  'Quantity': 90},\n",
              " '1928027': {'Exp': 'Nov/2023',\n",
              "  'Mfg': 'Sep/2021',\n",
              "  'Price': 120,\n",
              "  'Product_name': 'Toblerone',\n",
              "  'Quantity': 50},\n",
              " '1928028': {'Exp': 'Dec/2025',\n",
              "  'Mfg': 'Jan/2021',\n",
              "  'Price': 160,\n",
              "  'Product_name': 'IntenseDark',\n",
              "  'Quantity': 70},\n",
              " '1928029': {'Exp': 'Dec/2023',\n",
              "  'Mfg': 'Feb/2021',\n",
              "  'Price': 120,\n",
              "  'Product_name': 'Lindt',\n",
              "  'Quantity': 60},\n",
              " '1928030': {'Exp': 'Jan/2022',\n",
              "  'Mfg': 'Oct/2021',\n",
              "  'Price': 130,\n",
              "  'Product_name': 'Fabelle',\n",
              "  'Quantity': 100}}"
            ]
          },
          "metadata": {},
          "execution_count": 2
        }
      ]
    },
    {
      "cell_type": "markdown",
      "metadata": {
        "id": "sXL-3AUDqDmk"
      },
      "source": [
        "##Purchasing an item"
      ]
    },
    {
      "cell_type": "code",
      "metadata": {
        "colab": {
          "base_uri": "https://localhost:8080/"
        },
        "id": "HNCJlcBBUytQ",
        "outputId": "486ba819-43d1-41bf-fa9d-96fb87d02baf"
      },
      "source": [
        "## Displaying the list of product to user\n",
        "\n",
        "print(\"Product_ID\\t\",\"Price\\t\",\"Quantity\\t\",\"Product Name\")\n",
        "print(\"****************************************************\")\n",
        "for key,value in records.items():\n",
        "         print(key,\"\\t\",value['Price'],\"\\t\", value['Quantity'],\"\\t\\t\",value['Product_name'])"
      ],
      "execution_count": 3,
      "outputs": [
        {
          "output_type": "stream",
          "name": "stdout",
          "text": [
            "Product_ID\t Price\t Quantity\t Product Name\n",
            "****************************************************\n",
            "1928001 \t 100 \t 80 \t\t Amenolado\n",
            "1928002 \t 140 \t 90 \t\t Ballotin\n",
            "1928003 \t 120 \t 50 \t\t Chocovic\n",
            "1928004 \t 160 \t 70 \t\t Devils_Food\n",
            "1928005 \t 120 \t 60 \t\t Enrober\n",
            "1928006 \t 130 \t 100 \t\t Forastero\n",
            "1928007 \t 100 \t 80 \t\t Ganache\n",
            "1928008 \t 140 \t 90 \t\t Magra\n",
            "1928009 \t 120 \t 50 \t\t Metate\n",
            "1928010 \t 160 \t 70 \t\t Molinillo\n",
            "1928011 \t 120 \t 60 \t\t Sugar_Bloom\n",
            "1928012 \t 130 \t 100 \t\t Tempering\n",
            "1928013 \t 100 \t 80 \t\t Trinitario\n",
            "1928014 \t 140 \t 90 \t\t Vanillin\n",
            "1928015 \t 120 \t 50 \t\t Winnowing\n",
            "1928016 \t 160 \t 70 \t\t Cupuacu\n",
            "1928017 \t 120 \t 60 \t\t Conching\n",
            "1928018 \t 130 \t 100 \t\t Chocolatier\n",
            "1928019 \t 100 \t 80 \t\t Bournville\n",
            "1928020 \t 140 \t 90 \t\t Poppins \n",
            "1928021 \t 120 \t 50 \t\t Mazelo\n",
            "1928022 \t 160 \t 70 \t\t Skittles\n",
            "1928023 \t 120 \t 60 \t\t Snickers\n",
            "1928024 \t 130 \t 100 \t\t Mars bar\n",
            "1928025 \t 100 \t 80 \t\t Ferrero\n",
            "1928026 \t 140 \t 90 \t\t Goldenberry\n",
            "1928027 \t 120 \t 50 \t\t Toblerone\n",
            "1928028 \t 160 \t 70 \t\t IntenseDark\n",
            "1928029 \t 120 \t 60 \t\t Lindt\n",
            "1928030 \t 130 \t 100 \t\t Fabelle\n"
          ]
        }
      ]
    },
    {
      "cell_type": "code",
      "metadata": {
        "colab": {
          "base_uri": "https://localhost:8080/"
        },
        "id": "Jv1cuXsfob9t",
        "outputId": "6f6589bc-5640-40a9-80a8-e94637b327d2"
      },
      "source": [
        "user_request=1\n",
        "Total_Amount=0\n",
        "no_of_transactions=1\n",
        "sales={}\n",
        "while user_request:\n",
        "   \n",
        "    prod_id  = input(\"Enter the product_Id: \")\n",
        "    \n",
        "    print(\"Product Name: \", records[prod_id]['Product_name'])\n",
        "    print(\"Price: \", records[prod_id]['Price'])\n",
        "    print(\"Quantity: \", records[prod_id]['Quantity'])\n",
        "    \n",
        "    prod_qt = int(input(\"Enter the quantity: \"))\n",
        "    \n",
        "    #If quantity is not available    \n",
        "    if prod_qt>records[prod_id]['Quantity']:\n",
        "      print(\"Item not available\")\n",
        "    else:#If the product is available then printing the bill \n",
        "      print(\"Billing Amount: \", records[prod_id]['Price'] * prod_qt)\n",
        "      Total_Amount+=records[prod_id]['Price'] * prod_qt\n",
        "      \n",
        "      #Maintaining the sales record\n",
        "      sales.update({no_of_transactions:{'product_id' : prod_id, 'quantity' : prod_qt, 'amount': records[prod_id]['Price'] * prod_qt,'Time':time.ctime()}})\n",
        "      no_of_transactions+=1\n",
        "\n",
        "      records[prod_id]['Quantity'] = records[prod_id]['Quantity'] - prod_qt\n",
        "    \n",
        "    \n",
        "    user_request=int(input(\"Do u want more items? enter 1 to continue and 0 to end->\"))\n",
        "\n",
        "\n",
        "print(\"********************************\")\n",
        "print(\"Total Amount:\",Total_Amount)"
      ],
      "execution_count": 4,
      "outputs": [
        {
          "output_type": "stream",
          "name": "stdout",
          "text": [
            "Enter the product_Id: 1928001\n",
            "Product Name:  Amenolado\n",
            "Price:  100\n",
            "Quantity:  80\n",
            "Enter the quantity: 10\n",
            "Billing Amount:  1000\n",
            "Do u want more items? enter 1 to continue and 0 to end->1\n",
            "Enter the product_Id: 1928007\n",
            "Product Name:  Ganache\n",
            "Price:  100\n",
            "Quantity:  80\n",
            "Enter the quantity: 4\n",
            "Billing Amount:  400\n",
            "Do u want more items? enter 1 to continue and 0 to end->0\n",
            "********************************\n",
            "Total Amount: 1400\n"
          ]
        }
      ]
    },
    {
      "cell_type": "code",
      "metadata": {
        "colab": {
          "base_uri": "https://localhost:8080/"
        },
        "id": "N12KxbIMob7e",
        "outputId": "932cd0c4-28c1-4511-ad9c-4960a2f73273"
      },
      "source": [
        "records"
      ],
      "execution_count": null,
      "outputs": [
        {
          "output_type": "execute_result",
          "data": {
            "text/plain": [
              "{'1928001': {'Exp': 'Oct/2023',\n",
              "  'Mfg': 'Aug/2021',\n",
              "  'Price': 100,\n",
              "  'Product_name': 'Amenolado',\n",
              "  'Quantity': 80},\n",
              " '1928002': {'Exp': 'May/2024',\n",
              "  'Mfg': 'June/2021',\n",
              "  'Price': 140,\n",
              "  'Product_name': 'Ballotin',\n",
              "  'Quantity': 90},\n",
              " '1928003': {'Exp': 'Nov/2023',\n",
              "  'Mfg': 'Sep/2021',\n",
              "  'Price': 120,\n",
              "  'Product_name': 'Chocovic',\n",
              "  'Quantity': 50},\n",
              " '1928004': {'Exp': 'Dec/2023',\n",
              "  'Mfg': 'Jan/2021',\n",
              "  'Price': 160,\n",
              "  'Product_name': 'Devils_Food',\n",
              "  'Quantity': 70},\n",
              " '1928005': {'Exp': 'Dec/2023',\n",
              "  'Mfg': 'Feb/2021',\n",
              "  'Price': 120,\n",
              "  'Product_name': 'Enrober',\n",
              "  'Quantity': 60},\n",
              " '1928006': {'Exp': 'Jan/2022',\n",
              "  'Mfg': 'Oct/2021',\n",
              "  'Price': 130,\n",
              "  'Product_name': 'Forastero',\n",
              "  'Quantity': 100},\n",
              " '1928007': {'Exp': 'Oct:2023',\n",
              "  'Mfg': 'Aug/2021',\n",
              "  'Price': 100,\n",
              "  'Product_name': 'Ganache',\n",
              "  'Quantity': 80},\n",
              " '1928008': {'Exp': 'May/2024',\n",
              "  'Mfg': 'June/2021',\n",
              "  'Price': 140,\n",
              "  'Product_name': 'Magra',\n",
              "  'Quantity': 90},\n",
              " '1928009': {'Exp': 'Nov/2023',\n",
              "  'Mfg': 'Sep/2021',\n",
              "  'Price': 120,\n",
              "  'Product_name': 'Metate',\n",
              "  'Quantity': 50},\n",
              " '1928010': {'Exp': 'Dec/2023',\n",
              "  'Mfg': 'Jan/2021',\n",
              "  'Price': 160,\n",
              "  'Product_name': 'Molinillo',\n",
              "  'Quantity': 70},\n",
              " '1928011': {'Exp': 'Dec/2023',\n",
              "  'Mfg': 'Feb/2021',\n",
              "  'Price': 120,\n",
              "  'Product_name': 'Sugar_Bloom',\n",
              "  'Quantity': 60},\n",
              " '1928012': {'Exp': 'Jan/2022',\n",
              "  'Mfg': 'Oct/2021',\n",
              "  'Price': 130,\n",
              "  'Product_name': 'Tempering',\n",
              "  'Quantity': 100},\n",
              " '1928013': {'Exp': 'Oct/2023',\n",
              "  'Mfg': 'Aug/2021',\n",
              "  'Price': 100,\n",
              "  'Product_name': 'Trinitario',\n",
              "  'Quantity': 80},\n",
              " '1928014': {'Exp': 'May/2024',\n",
              "  'Mfg': 'Jun/2021',\n",
              "  'Price': 140,\n",
              "  'Product_name': 'Vanillin',\n",
              "  'Quantity': 90},\n",
              " '1928015': {'Exp': 'Nov/2023',\n",
              "  'Mfg': 'Sep/2021',\n",
              "  'Price': 120,\n",
              "  'Product_name': 'Winnowing',\n",
              "  'Quantity': 50},\n",
              " '1928016': {'Exp': 'Dec/2023',\n",
              "  'Mfg': 'Jan/2021',\n",
              "  'Price': 160,\n",
              "  'Product_name': 'Cupuacu',\n",
              "  'Quantity': 70},\n",
              " '1928017': {'Exp': 'Dec/2023',\n",
              "  'Mfg': 'Feb/2021',\n",
              "  'Price': 120,\n",
              "  'Product_name': 'Conching',\n",
              "  'Quantity': 60},\n",
              " '1928018': {'Exp': 'Jan/2022',\n",
              "  'Mfg': 'Oct/2021',\n",
              "  'Price': 130,\n",
              "  'Product_name': 'Chocolatier',\n",
              "  'Quantity': 100},\n",
              " '1928019': {'Exp': 'Oct/2023',\n",
              "  'Mfg': 'Aug/2021',\n",
              "  'Price': 100,\n",
              "  'Product_name': 'Bournville',\n",
              "  'Quantity': 80},\n",
              " '1928020': {'Exp': 'May/2024',\n",
              "  'Mfg': 'Jun/2021',\n",
              "  'Price': 140,\n",
              "  'Product_name': 'Poppins ',\n",
              "  'Quantity': 90},\n",
              " '1928021': {'Exp': 'Nov/2023',\n",
              "  'Mfg': 'Sep/2021',\n",
              "  'Price': 120,\n",
              "  'Product_name': 'Mazelo',\n",
              "  'Quantity': 50},\n",
              " '1928022': {'Exp': 'Dec/2023',\n",
              "  'Mfg': 'Jan/2021',\n",
              "  'Price': 160,\n",
              "  'Product_name': 'Skittles',\n",
              "  'Quantity': 70},\n",
              " '1928023': {'Exp': 'Dec/2023',\n",
              "  'Mfg': 'Feb/2021',\n",
              "  'Price': 120,\n",
              "  'Product_name': 'Snickers',\n",
              "  'Quantity': 60},\n",
              " '1928024': {'Exp': 'Jan/2022',\n",
              "  'Mfg': 'Oct/2021',\n",
              "  'Price': 130,\n",
              "  'Product_name': 'Mars bar',\n",
              "  'Quantity': 100},\n",
              " '1928025': {'Exp': 'Oct/2023',\n",
              "  'Mfg': 'Aug/2021',\n",
              "  'Price': 100,\n",
              "  'Product_name': 'Ferrero',\n",
              "  'Quantity': 80},\n",
              " '1928026': {'Exp': 'May/2024',\n",
              "  'Mfg': 'Jun/2021',\n",
              "  'Price': 140,\n",
              "  'Product_name': 'Goldenberry',\n",
              "  'Quantity': 90},\n",
              " '1928027': {'Exp': 'Nov/2023',\n",
              "  'Mfg': 'Sep/2021',\n",
              "  'Price': 120,\n",
              "  'Product_name': 'Toblerone',\n",
              "  'Quantity': 50},\n",
              " '1928028': {'Exp': 'Dec/2025',\n",
              "  'Mfg': 'Jan/2021',\n",
              "  'Price': 160,\n",
              "  'Product_name': 'IntenseDark',\n",
              "  'Quantity': 70},\n",
              " '1928029': {'Exp': 'Dec/2023',\n",
              "  'Mfg': 'Feb/2021',\n",
              "  'Price': 120,\n",
              "  'Product_name': 'Lindt',\n",
              "  'Quantity': 60},\n",
              " '1928030': {'Exp': 'Jan/2022',\n",
              "  'Mfg': 'Oct/2021',\n",
              "  'Price': 130,\n",
              "  'Product_name': 'Fabelle',\n",
              "  'Quantity': 100}}"
            ]
          },
          "metadata": {},
          "execution_count": 8
        }
      ]
    },
    {
      "cell_type": "code",
      "metadata": {
        "id": "ww9hgcGtob2x"
      },
      "source": [
        "js = json.dumps(records)\n",
        "\n",
        "fd = open(\"record.json\",'w')\n",
        "fd.write(js)\n",
        "fd.close()"
      ],
      "execution_count": null,
      "outputs": []
    },
    {
      "cell_type": "markdown",
      "metadata": {
        "id": "PdLo8uIo0DwT"
      },
      "source": [
        "##Sales"
      ]
    },
    {
      "cell_type": "code",
      "metadata": {
        "id": "_DzIvWJjob0q"
      },
      "source": [
        "sale = json.dumps(sales)\n",
        "\n",
        "fd=open(\"sales.json\",'w')\n",
        "fd.write(sale)\n",
        "fd.close()\n"
      ],
      "execution_count": 5,
      "outputs": []
    },
    {
      "cell_type": "code",
      "metadata": {
        "id": "4hsr9efhobx7",
        "colab": {
          "base_uri": "https://localhost:8080/"
        },
        "outputId": "51b3ca28-7d98-4c4d-f9c9-e26bc4621c4b"
      },
      "source": [
        "sales"
      ],
      "execution_count": 6,
      "outputs": [
        {
          "output_type": "execute_result",
          "data": {
            "text/plain": [
              "{1: {'Time': 'Mon Sep  6 11:36:14 2021',\n",
              "  'amount': 1000,\n",
              "  'product_id': '1928001',\n",
              "  'quantity': 10},\n",
              " 2: {'Time': 'Mon Sep  6 11:36:55 2021',\n",
              "  'amount': 400,\n",
              "  'product_id': '1928007',\n",
              "  'quantity': 4}}"
            ]
          },
          "metadata": {},
          "execution_count": 6
        }
      ]
    },
    {
      "cell_type": "code",
      "metadata": {
        "id": "iMYL01DzXYyQ",
        "colab": {
          "base_uri": "https://localhost:8080/",
          "height": 53
        },
        "outputId": "8917ab4f-3a08-4287-d15d-ef2f6b3a9b5d"
      },
      "source": [
        "fd=open(\"sales.json\",'r')\n",
        "txt=fd.read()\n",
        "fd.close()\n",
        "txt"
      ],
      "execution_count": 7,
      "outputs": [
        {
          "output_type": "execute_result",
          "data": {
            "application/vnd.google.colaboratory.intrinsic+json": {
              "type": "string"
            },
            "text/plain": [
              "'{\"1\": {\"product_id\": \"1928001\", \"quantity\": 10, \"amount\": 1000, \"Time\": \"Mon Sep  6 11:36:14 2021\"}, \"2\": {\"product_id\": \"1928007\", \"quantity\": 4, \"amount\": 400, \"Time\": \"Mon Sep  6 11:36:55 2021\"}}'"
            ]
          },
          "metadata": {},
          "execution_count": 7
        }
      ]
    }
  ]
}