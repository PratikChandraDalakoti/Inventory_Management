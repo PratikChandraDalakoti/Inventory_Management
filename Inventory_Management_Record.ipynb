{
  "nbformat": 4,
  "nbformat_minor": 0,
  "metadata": {
    "colab": {
      "name": "Inventory_Management_Record.ipynb",
      "provenance": []
    },
    "kernelspec": {
      "name": "python3",
      "display_name": "Python 3"
    },
    "language_info": {
      "name": "python"
    }
  },
  "cells": [
    {
      "cell_type": "code",
      "metadata": {
        "id": "wJWJYFjxWRMF"
      },
      "source": [
        "records ={1928001 :{\"Product_name\": \"Amenolado\"  , \"Price\": 100 , \"Quantity\": 80  , \"Mfg\" : \"Aug/2021\" , \"Exp\" : \"Oct/2023\"},\n",
        "         1928002 :{\"Product_name\": \"Ballotin\"   , \"Price\": 140 , \"Quantity\": 90  , \"Mfg\" : \"June/2021\" ,\"Exp\" : \"May/2024\"},\n",
        "         1928003 :{\"Product_name\": \"Chocovic\"   , \"Price\": 120 , \"Quantity\": 50  , \"Mfg\" : \"Sep/2021\" , \"Exp\" : \"Nov/2023\"},\n",
        "         1928004 :{\"Product_name\": \"Devils_Food\", \"Price\": 160 , \"Quantity\": 70  , \"Mfg\" : \"Jan/2021\" , \"Exp\" : \"Dec/2023\"},\n",
        "         1928005 :{\"Product_name\": \"Enrober\"    , \"Price\": 120 , \"Quantity\": 60  , \"Mfg\" : \"Feb/2021\" , \"Exp\" : \"Dec:2023\"},\n",
        "         1928005 :{\"Product_name\": \"Enrober\"    , \"Price\": 120 , \"Quantity\": 60  , \"Mfg\" : \"Feb/2021\" , \"Exp\" : \"Dec/2023\"},\n",
        "         1928006 :{\"Product_name\": \"Forastero\"  , \"Price\": 130 , \"Quantity\": 100 , \"Mfg\" : \"Oct/2021\" , \"Exp\" : \"Jan/2022\"},\n",
        "         1928007 :{\"Product_name\": \"Ganache\"    , \"Price\": 100 , \"Quantity\": 80  , \"Mfg\" : \"Aug/2021\" , \"Exp\" : \"Oct:2023\"},\n",
        "         1928008 :{\"Product_name\": \"Magra\"      , \"Price\": 140 , \"Quantity\": 90  , \"Mfg\" : \"June/2021\", \"Exp\" : \"May/2024\"},\n",
        "         1928009 :{\"Product_name\": \"Metate\"     , \"Price\": 120 , \"Quantity\": 50  , \"Mfg\" : \"Sep/2021\" , \"Exp\" : \"Nov/2023\"},\n",
        "         1928010 :{\"Product_name\": \"Molinillo\"  , \"Price\": 160 , \"Quantity\": 70  , \"Mfg\" : \"Jan/2021\" , \"Exp\" : \"Dec/2023\"},\n",
        "         1928011 :{\"Product_name\": \"Sugar_Bloom\", \"Price\": 120 , \"Quantity\": 60  , \"Mfg\" : \"Feb/2021\" , \"Exp\" : \"Dec/2023\"},\n",
        "         1928012 :{\"Product_name\": \"Tempering\"  , \"Price\": 130 , \"Quantity\": 100 , \"Mfg\" : \"Oct/2021\" , \"Exp\" : \"Jan/2022\"},\n",
        "         1928013 :{\"Product_name\": \"Trinitario\" , \"Price\": 100 , \"Quantity\": 80  , \"Mfg\" : \"Aug/2021\" , \"Exp\" : \"Oct/2023\"},\n",
        "         1928014 :{\"Product_name\": \"Vanillin\"   , \"Price\": 140 , \"Quantity\": 90  , \"Mfg\" : \"Jun/2021\", \"Exp\" : \"May/2024\"},\n",
        "         1928015 :{\"Product_name\": \"Winnowing\"  , \"Price\": 120 , \"Quantity\": 50  , \"Mfg\" : \"Sep/2021\" , \"Exp\" : \"Nov/2023\"},\n",
        "         1928016 :{\"Product_name\": \"Cupuacu\"    , \"Price\": 160 , \"Quantity\": 70  , \"Mfg\" : \"Jan/2021\" , \"Exp\" : \"Dec/2023\"},\n",
        "         1928017 :{\"Product_name\": \"Conching\"   , \"Price\": 120 , \"Quantity\": 60  , \"Mfg\" : \"Feb/2021\" , \"Exp\" : \"Dec/2023\"},\n",
        "         1928018 :{\"Product_name\": \"Chocolatier\", \"Price\": 130 , \"Quantity\": 100 , \"Mfg\" : \"Oct/2021\" , \"Exp\" : \"Jan/2022\"},\n",
        "         1928019 :{\"Product_name\": \"Bournville\" , \"Price\": 100 , \"Quantity\": 80  , \"Mfg\" : \"Aug/2021\" , \"Exp\" : \"Oct/2023\"},\n",
        "         1928020 :{\"Product_name\": \"Poppins \"   , \"Price\": 140 , \"Quantity\": 90  , \"Mfg\" : \"Jun/2021\", \"Exp\" : \"May/2024\"},\n",
        "         1928021 :{\"Product_name\": \"Mazelo\"     , \"Price\": 120 , \"Quantity\": 50  , \"Mfg\" : \"Sep/2021\" , \"Exp\" : \"Nov/2023\"},\n",
        "         1928022 :{\"Product_name\": \"Skittles\"   , \"Price\": 160 , \"Quantity\": 70  , \"Mfg\" : \"Jan/2021\" , \"Exp\" : \"Dec/2023\"},\n",
        "         1928023 :{\"Product_name\": \"Snickers\"   , \"Price\": 120 , \"Quantity\": 60  , \"Mfg\" : \"Feb/2021\" , \"Exp\" : \"Dec/2023\"},\n",
        "         1928024 :{\"Product_name\": \"Mars bar\"   , \"Price\": 130 , \"Quantity\": 100 , \"Mfg\" : \"Oct/2021\" , \"Exp\" : \"Jan/2022\"},\n",
        "         1928025 :{\"Product_name\": \"Ferrero\"    , \"Price\": 100 , \"Quantity\": 80  , \"Mfg\" : \"Aug/2021\" , \"Exp\" : \"Oct/2023\"},\n",
        "         1928026 :{\"Product_name\": \"Goldenberry\", \"Price\": 140 , \"Quantity\": 90  , \"Mfg\" : \"Jun/2021\", \"Exp\" : \"May/2024\"},\n",
        "         1928027 :{\"Product_name\": \"Toblerone\"  , \"Price\": 120 , \"Quantity\": 50  , \"Mfg\" : \"Sep/2021\" , \"Exp\" : \"Nov/2023\"},\n",
        "         1928028 :{\"Product_name\": \"IntenseDark\", \"Price\": 160 , \"Quantity\": 70  , \"Mfg\" : \"Jan/2021\" , \"Exp\" : \"Dec/2025\"},\n",
        "         1928029 :{\"Product_name\": \"Lindt\"      , \"Price\": 120 , \"Quantity\": 60  , \"Mfg\" : \"Feb/2021\" , \"Exp\" : \"Dec/2023\"},\n",
        "         1928030 :{\"Product_name\": \"Fabelle\"    , \"Price\": 130 , \"Quantity\": 100 , \"Mfg\" : \"Oct/2021\" , \"Exp\" : \"Jan/2022\"}}"
      ],
      "execution_count": 1,
      "outputs": []
    },
    {
      "cell_type": "code",
      "metadata": {
        "colab": {
          "base_uri": "https://localhost:8080/"
        },
        "id": "uIsncCyiVXXX",
        "outputId": "633c9f0e-ccf7-4509-bc70-3afac6f300da"
      },
      "source": [
        "records "
      ],
      "execution_count": 2,
      "outputs": [
        {
          "output_type": "execute_result",
          "data": {
            "text/plain": [
              "{1928001: {'Exp': 'Oct/2023',\n",
              "  'Mfg': 'Aug/2021',\n",
              "  'Price': 100,\n",
              "  'Product_name': 'Amenolado',\n",
              "  'Quantity': 80},\n",
              " 1928002: {'Exp': 'May/2024',\n",
              "  'Mfg': 'June/2021',\n",
              "  'Price': 140,\n",
              "  'Product_name': 'Ballotin',\n",
              "  'Quantity': 90},\n",
              " 1928003: {'Exp': 'Nov/2023',\n",
              "  'Mfg': 'Sep/2021',\n",
              "  'Price': 120,\n",
              "  'Product_name': 'Chocovic',\n",
              "  'Quantity': 50},\n",
              " 1928004: {'Exp': 'Dec/2023',\n",
              "  'Mfg': 'Jan/2021',\n",
              "  'Price': 160,\n",
              "  'Product_name': 'Devils_Food',\n",
              "  'Quantity': 70},\n",
              " 1928005: {'Exp': 'Dec/2023',\n",
              "  'Mfg': 'Feb/2021',\n",
              "  'Price': 120,\n",
              "  'Product_name': 'Enrober',\n",
              "  'Quantity': 60},\n",
              " 1928006: {'Exp': 'Jan/2022',\n",
              "  'Mfg': 'Oct/2021',\n",
              "  'Price': 130,\n",
              "  'Product_name': 'Forastero',\n",
              "  'Quantity': 100},\n",
              " 1928007: {'Exp': 'Oct:2023',\n",
              "  'Mfg': 'Aug/2021',\n",
              "  'Price': 100,\n",
              "  'Product_name': 'Ganache',\n",
              "  'Quantity': 80},\n",
              " 1928008: {'Exp': 'May/2024',\n",
              "  'Mfg': 'June/2021',\n",
              "  'Price': 140,\n",
              "  'Product_name': 'Magra',\n",
              "  'Quantity': 90},\n",
              " 1928009: {'Exp': 'Nov/2023',\n",
              "  'Mfg': 'Sep/2021',\n",
              "  'Price': 120,\n",
              "  'Product_name': 'Metate',\n",
              "  'Quantity': 50},\n",
              " 1928010: {'Exp': 'Dec/2023',\n",
              "  'Mfg': 'Jan/2021',\n",
              "  'Price': 160,\n",
              "  'Product_name': 'Molinillo',\n",
              "  'Quantity': 70},\n",
              " 1928011: {'Exp': 'Dec/2023',\n",
              "  'Mfg': 'Feb/2021',\n",
              "  'Price': 120,\n",
              "  'Product_name': 'Sugar_Bloom',\n",
              "  'Quantity': 60},\n",
              " 1928012: {'Exp': 'Jan/2022',\n",
              "  'Mfg': 'Oct/2021',\n",
              "  'Price': 130,\n",
              "  'Product_name': 'Tempering',\n",
              "  'Quantity': 100},\n",
              " 1928013: {'Exp': 'Oct/2023',\n",
              "  'Mfg': 'Aug/2021',\n",
              "  'Price': 100,\n",
              "  'Product_name': 'Trinitario',\n",
              "  'Quantity': 80},\n",
              " 1928014: {'Exp': 'May/2024',\n",
              "  'Mfg': 'Jun/2021',\n",
              "  'Price': 140,\n",
              "  'Product_name': 'Vanillin',\n",
              "  'Quantity': 90},\n",
              " 1928015: {'Exp': 'Nov/2023',\n",
              "  'Mfg': 'Sep/2021',\n",
              "  'Price': 120,\n",
              "  'Product_name': 'Winnowing',\n",
              "  'Quantity': 50},\n",
              " 1928016: {'Exp': 'Dec/2023',\n",
              "  'Mfg': 'Jan/2021',\n",
              "  'Price': 160,\n",
              "  'Product_name': 'Cupuacu',\n",
              "  'Quantity': 70},\n",
              " 1928017: {'Exp': 'Dec/2023',\n",
              "  'Mfg': 'Feb/2021',\n",
              "  'Price': 120,\n",
              "  'Product_name': 'Conching',\n",
              "  'Quantity': 60},\n",
              " 1928018: {'Exp': 'Jan/2022',\n",
              "  'Mfg': 'Oct/2021',\n",
              "  'Price': 130,\n",
              "  'Product_name': 'Chocolatier',\n",
              "  'Quantity': 100},\n",
              " 1928019: {'Exp': 'Oct/2023',\n",
              "  'Mfg': 'Aug/2021',\n",
              "  'Price': 100,\n",
              "  'Product_name': 'Bournville',\n",
              "  'Quantity': 80},\n",
              " 1928020: {'Exp': 'May/2024',\n",
              "  'Mfg': 'Jun/2021',\n",
              "  'Price': 140,\n",
              "  'Product_name': 'Poppins ',\n",
              "  'Quantity': 90},\n",
              " 1928021: {'Exp': 'Nov/2023',\n",
              "  'Mfg': 'Sep/2021',\n",
              "  'Price': 120,\n",
              "  'Product_name': 'Mazelo',\n",
              "  'Quantity': 50},\n",
              " 1928022: {'Exp': 'Dec/2023',\n",
              "  'Mfg': 'Jan/2021',\n",
              "  'Price': 160,\n",
              "  'Product_name': 'Skittles',\n",
              "  'Quantity': 70},\n",
              " 1928023: {'Exp': 'Dec/2023',\n",
              "  'Mfg': 'Feb/2021',\n",
              "  'Price': 120,\n",
              "  'Product_name': 'Snickers',\n",
              "  'Quantity': 60},\n",
              " 1928024: {'Exp': 'Jan/2022',\n",
              "  'Mfg': 'Oct/2021',\n",
              "  'Price': 130,\n",
              "  'Product_name': 'Mars bar',\n",
              "  'Quantity': 100},\n",
              " 1928025: {'Exp': 'Oct/2023',\n",
              "  'Mfg': 'Aug/2021',\n",
              "  'Price': 100,\n",
              "  'Product_name': 'Ferrero',\n",
              "  'Quantity': 80},\n",
              " 1928026: {'Exp': 'May/2024',\n",
              "  'Mfg': 'Jun/2021',\n",
              "  'Price': 140,\n",
              "  'Product_name': 'Goldenberry',\n",
              "  'Quantity': 90},\n",
              " 1928027: {'Exp': 'Nov/2023',\n",
              "  'Mfg': 'Sep/2021',\n",
              "  'Price': 120,\n",
              "  'Product_name': 'Toblerone',\n",
              "  'Quantity': 50},\n",
              " 1928028: {'Exp': 'Dec/2025',\n",
              "  'Mfg': 'Jan/2021',\n",
              "  'Price': 160,\n",
              "  'Product_name': 'IntenseDark',\n",
              "  'Quantity': 70},\n",
              " 1928029: {'Exp': 'Dec/2023',\n",
              "  'Mfg': 'Feb/2021',\n",
              "  'Price': 120,\n",
              "  'Product_name': 'Lindt',\n",
              "  'Quantity': 60},\n",
              " 1928030: {'Exp': 'Jan/2022',\n",
              "  'Mfg': 'Oct/2021',\n",
              "  'Price': 130,\n",
              "  'Product_name': 'Fabelle',\n",
              "  'Quantity': 100}}"
            ]
          },
          "metadata": {},
          "execution_count": 2
        }
      ]
    },
    {
      "cell_type": "markdown",
      "metadata": {
        "id": "to6_RQzUQxuG"
      },
      "source": [
        "##JSON file\n"
      ]
    },
    {
      "cell_type": "code",
      "metadata": {
        "id": "UKoHnmYsXGYw"
      },
      "source": [
        "import json\n",
        "js=json.dumps(records)\n"
      ],
      "execution_count": 4,
      "outputs": []
    },
    {
      "cell_type": "code",
      "metadata": {
        "id": "Pc0dznzDdSAg"
      },
      "source": [
        "from google.colab import drive\n",
        "drive.mount('/content/drive')"
      ],
      "execution_count": null,
      "outputs": []
    },
    {
      "cell_type": "code",
      "metadata": {
        "id": "TTzAyHCuVd64"
      },
      "source": [
        "fd=open(\"record.json\",'w')\n",
        "fd.write(js)\n",
        "fd.close()\n"
      ],
      "execution_count": 5,
      "outputs": []
    },
    {
      "cell_type": "code",
      "metadata": {
        "id": "tPSASkObWiRR"
      },
      "source": [
        "fd=open(\"record.json\",'r')\n",
        "txt=fd.read()"
      ],
      "execution_count": 6,
      "outputs": []
    },
    {
      "cell_type": "code",
      "metadata": {
        "colab": {
          "base_uri": "https://localhost:8080/",
          "height": 191
        },
        "id": "PHRV_9C-Wifg",
        "outputId": "9be538ee-4b20-400a-fc7e-a29cbec4c2af"
      },
      "source": [
        "txt\n"
      ],
      "execution_count": 7,
      "outputs": [
        {
          "output_type": "execute_result",
          "data": {
            "application/vnd.google.colaboratory.intrinsic+json": {
              "type": "string"
            },
            "text/plain": [
              "'{\"1928001\": {\"Product_name\": \"Amenolado\", \"Price\": 100, \"Quantity\": 80, \"Mfg\": \"Aug/2021\", \"Exp\": \"Oct/2023\"}, \"1928002\": {\"Product_name\": \"Ballotin\", \"Price\": 140, \"Quantity\": 90, \"Mfg\": \"June/2021\", \"Exp\": \"May/2024\"}, \"1928003\": {\"Product_name\": \"Chocovic\", \"Price\": 120, \"Quantity\": 50, \"Mfg\": \"Sep/2021\", \"Exp\": \"Nov/2023\"}, \"1928004\": {\"Product_name\": \"Devils_Food\", \"Price\": 160, \"Quantity\": 70, \"Mfg\": \"Jan/2021\", \"Exp\": \"Dec/2023\"}, \"1928005\": {\"Product_name\": \"Enrober\", \"Price\": 120, \"Quantity\": 60, \"Mfg\": \"Feb/2021\", \"Exp\": \"Dec/2023\"}, \"1928006\": {\"Product_name\": \"Forastero\", \"Price\": 130, \"Quantity\": 100, \"Mfg\": \"Oct/2021\", \"Exp\": \"Jan/2022\"}, \"1928007\": {\"Product_name\": \"Ganache\", \"Price\": 100, \"Quantity\": 80, \"Mfg\": \"Aug/2021\", \"Exp\": \"Oct:2023\"}, \"1928008\": {\"Product_name\": \"Magra\", \"Price\": 140, \"Quantity\": 90, \"Mfg\": \"June/2021\", \"Exp\": \"May/2024\"}, \"1928009\": {\"Product_name\": \"Metate\", \"Price\": 120, \"Quantity\": 50, \"Mfg\": \"Sep/2021\", \"Exp\": \"Nov/2023\"}, \"1928010\": {\"Product_name\": \"Molinillo\", \"Price\": 160, \"Quantity\": 70, \"Mfg\": \"Jan/2021\", \"Exp\": \"Dec/2023\"}, \"1928011\": {\"Product_name\": \"Sugar_Bloom\", \"Price\": 120, \"Quantity\": 60, \"Mfg\": \"Feb/2021\", \"Exp\": \"Dec/2023\"}, \"1928012\": {\"Product_name\": \"Tempering\", \"Price\": 130, \"Quantity\": 100, \"Mfg\": \"Oct/2021\", \"Exp\": \"Jan/2022\"}, \"1928013\": {\"Product_name\": \"Trinitario\", \"Price\": 100, \"Quantity\": 80, \"Mfg\": \"Aug/2021\", \"Exp\": \"Oct/2023\"}, \"1928014\": {\"Product_name\": \"Vanillin\", \"Price\": 140, \"Quantity\": 90, \"Mfg\": \"Jun/2021\", \"Exp\": \"May/2024\"}, \"1928015\": {\"Product_name\": \"Winnowing\", \"Price\": 120, \"Quantity\": 50, \"Mfg\": \"Sep/2021\", \"Exp\": \"Nov/2023\"}, \"1928016\": {\"Product_name\": \"Cupuacu\", \"Price\": 160, \"Quantity\": 70, \"Mfg\": \"Jan/2021\", \"Exp\": \"Dec/2023\"}, \"1928017\": {\"Product_name\": \"Conching\", \"Price\": 120, \"Quantity\": 60, \"Mfg\": \"Feb/2021\", \"Exp\": \"Dec/2023\"}, \"1928018\": {\"Product_name\": \"Chocolatier\", \"Price\": 130, \"Quantity\": 100, \"Mfg\": \"Oct/2021\", \"Exp\": \"Jan/2022\"}, \"1928019\": {\"Product_name\": \"Bournville\", \"Price\": 100, \"Quantity\": 80, \"Mfg\": \"Aug/2021\", \"Exp\": \"Oct/2023\"}, \"1928020\": {\"Product_name\": \"Poppins \", \"Price\": 140, \"Quantity\": 90, \"Mfg\": \"Jun/2021\", \"Exp\": \"May/2024\"}, \"1928021\": {\"Product_name\": \"Mazelo\", \"Price\": 120, \"Quantity\": 50, \"Mfg\": \"Sep/2021\", \"Exp\": \"Nov/2023\"}, \"1928022\": {\"Product_name\": \"Skittles\", \"Price\": 160, \"Quantity\": 70, \"Mfg\": \"Jan/2021\", \"Exp\": \"Dec/2023\"}, \"1928023\": {\"Product_name\": \"Snickers\", \"Price\": 120, \"Quantity\": 60, \"Mfg\": \"Feb/2021\", \"Exp\": \"Dec/2023\"}, \"1928024\": {\"Product_name\": \"Mars bar\", \"Price\": 130, \"Quantity\": 100, \"Mfg\": \"Oct/2021\", \"Exp\": \"Jan/2022\"}, \"1928025\": {\"Product_name\": \"Ferrero\", \"Price\": 100, \"Quantity\": 80, \"Mfg\": \"Aug/2021\", \"Exp\": \"Oct/2023\"}, \"1928026\": {\"Product_name\": \"Goldenberry\", \"Price\": 140, \"Quantity\": 90, \"Mfg\": \"Jun/2021\", \"Exp\": \"May/2024\"}, \"1928027\": {\"Product_name\": \"Toblerone\", \"Price\": 120, \"Quantity\": 50, \"Mfg\": \"Sep/2021\", \"Exp\": \"Nov/2023\"}, \"1928028\": {\"Product_name\": \"IntenseDark\", \"Price\": 160, \"Quantity\": 70, \"Mfg\": \"Jan/2021\", \"Exp\": \"Dec/2025\"}, \"1928029\": {\"Product_name\": \"Lindt\", \"Price\": 120, \"Quantity\": 60, \"Mfg\": \"Feb/2021\", \"Exp\": \"Dec/2023\"}, \"1928030\": {\"Product_name\": \"Fabelle\", \"Price\": 130, \"Quantity\": 100, \"Mfg\": \"Oct/2021\", \"Exp\": \"Jan/2022\"}}'"
            ]
          },
          "metadata": {},
          "execution_count": 7
        }
      ]
    },
    {
      "cell_type": "code",
      "metadata": {
        "colab": {
          "base_uri": "https://localhost:8080/"
        },
        "id": "7ywW9RpMWiq-",
        "outputId": "571282ab-90ea-40d5-b9e9-fdf5b2eaff14"
      },
      "source": [
        "type(txt)"
      ],
      "execution_count": null,
      "outputs": [
        {
          "output_type": "execute_result",
          "data": {
            "text/plain": [
              "str"
            ]
          },
          "metadata": {},
          "execution_count": 17
        }
      ]
    },
    {
      "cell_type": "code",
      "metadata": {
        "id": "0nRGur19Wi0e"
      },
      "source": [
        ""
      ],
      "execution_count": null,
      "outputs": []
    },
    {
      "cell_type": "code",
      "metadata": {
        "id": "tpfFGUB8Wi-h"
      },
      "source": [
        ""
      ],
      "execution_count": null,
      "outputs": []
    },
    {
      "cell_type": "code",
      "metadata": {
        "id": "w2sXWi_RWjIM"
      },
      "source": [
        ""
      ],
      "execution_count": null,
      "outputs": []
    },
    {
      "cell_type": "code",
      "metadata": {
        "id": "nS72K_W8WjQx"
      },
      "source": [
        ""
      ],
      "execution_count": null,
      "outputs": []
    },
    {
      "cell_type": "code",
      "metadata": {
        "id": "F2Kq8fyLWjZW"
      },
      "source": [
        ""
      ],
      "execution_count": null,
      "outputs": []
    }
  ]
}